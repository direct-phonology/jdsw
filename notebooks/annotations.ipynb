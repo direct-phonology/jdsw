{
 "cells": [
  {
   "cell_type": "code",
   "execution_count": 27,
   "metadata": {},
   "outputs": [
    {
     "name": "stdout",
     "output_type": "stream",
     "text": [
      "1. 反 (44224)\n",
      "2. 音 (18316)\n",
      "3. 同 (10749)\n",
      "4. 也 (9830)\n",
      "5. 又 (7793)\n",
      "6. 下 (7708)\n",
      "7. 作 (6882)\n",
      "8. 云 (5235)\n",
      "9. 注 (5167)\n",
      "10. 本 (4884)\n",
      "11. 字 (4408)\n",
      "12. 之 (3606)\n",
      "13. 如 (3307)\n",
      "14. 一 (2313)\n",
      "15. 徐 (2236)\n",
      "16. 亦 (2154)\n",
      "17. 古 (2071)\n",
      "18. 于 (1842)\n",
      "19. 直 (1804)\n",
      "20. 於 (1744)\n",
      "21. 皆 (1729)\n",
      "22. 爲 (1706)\n",
      "23. 子 (1686)\n",
      "24. 力 (1610)\n",
      "25. 或 (1607)\n"
     ]
    }
   ],
   "source": [
    "import pandas as pd\n",
    "from collections import Counter\n",
    "\n",
    "# load the data file\n",
    "df = pd.read_csv('../data/annotations.csv', )\n",
    "\n",
    "# plot the distribution of annotation lengths\n",
    "df['annotation_length'] = df.apply(lambda row: len(row.annotation), axis=1)\n",
    "# print(df['annotation_length'].describe())\n",
    "# df['annotation_length'].hist(range=(0, 10), bins=10, grid=False)\n",
    "\n",
    "# plot the distribution of headword lengths\n",
    "df['headword_length'] = df.apply(lambda row: len(row.headword), axis=1)\n",
    "# print(df['headword_length'].describe())\n",
    "# df['headword_length'].hist(range=(0, 10), bins=10, grid=False)\n",
    "\n",
    "# get the most common characters used in annotations\n",
    "anno_chars = Counter(char for anno in df['annotation'] for char in anno)\n",
    "for i, (char, count) in enumerate(anno_chars.most_common(25)):\n",
    "    print(f\"{i + 1}. {char} ({count})\")"
   ]
  }
 ],
 "metadata": {
  "kernelspec": {
   "display_name": "Python 3.10.2 64-bit ('jdsw')",
   "language": "python",
   "name": "python3"
  },
  "language_info": {
   "codemirror_mode": {
    "name": "ipython",
    "version": 3
   },
   "file_extension": ".py",
   "mimetype": "text/x-python",
   "name": "python",
   "nbconvert_exporter": "python",
   "pygments_lexer": "ipython3",
   "version": "3.10.2"
  },
  "orig_nbformat": 4,
  "vscode": {
   "interpreter": {
    "hash": "1ef6ba440db882dbecbafe76138ab624a27029e0a2498410876ec3994ed1ec5f"
   }
  }
 },
 "nbformat": 4,
 "nbformat_minor": 2
}
